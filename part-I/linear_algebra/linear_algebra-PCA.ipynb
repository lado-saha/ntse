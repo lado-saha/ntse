{
 "cells": [
  {
   "cell_type": "markdown",
   "metadata": {
    "vscode": {
     "languageId": "latex"
    }
   },
   "source": [
    "# Implementing PCA using Linear Algebra (Example 2.12)\n",
    "\n",
    "## 1. Variables\n",
    "- **n**: The original dimension of points in your dataset.\n",
    "- **m**: The number of points we want to store.\n",
    "- **l**: The lower dimension we choose to store the points in (the compressed format).\n",
    ">> **NB** `A^ = transpose of A`\n",
    "\n",
    "## 2. Steps\n",
    "\n",
    "1. **Create the Matrix X**\n",
    "   - Construct a matrix **X** with columns as the points in your dataset. \\(X\\) is an \\(n x m\\) matrix.\n",
    "\n",
    "2. **Calculate P**\n",
    "   - Compute **P** as the product of the transpose of **X** and **X**: \\(P = X^ . X\\), resulting in an \\(m x m\\) square matrix.\n",
    "\n",
    "3. **Compute Eigenvectors and Eigenvalues**\n",
    "   - Find the **m eigenvectors** and **eigenvalues** of **P**.\n",
    "\n",
    "4. **Sort Eigenvectors**\n",
    "   - Sort the eigenvectors in descending order based on their corresponding eigenvalues.\n",
    "\n",
    "5. **Select Eigenvectors for Decoder Matrix D**\n",
    "   - Choose the first **l** eigenvectors and form the decoder matrix **D**, whose columns are the eigenvectors. \\(D\\) has dimensions \\(n x l\\).\n",
    "\n",
    "6. **Encoder Function**\n",
    "   - Compress a vector **x** (dimension \\(n\\)) into **c** (dimension \\(l\\)): `encode(x) = D^ . x`.\n",
    "\n",
    "7. **Decoder Function**\n",
    "   - Apply the transpose of **D** to **c** to reconstruct the original vector: `decoder(c) = D . c`.\n",
    "\n"
   ]
  },
  {
   "cell_type": "code",
   "execution_count": 24,
   "metadata": {},
   "outputs": [
    {
     "name": "stdout",
     "output_type": "stream",
     "text": [
      "[[ 1.76405235  0.40015721  0.97873798  2.2408932   1.86755799 -0.97727788\n",
      "   0.95008842 -0.15135721 -0.10321885  0.4105985 ]\n",
      " [ 0.14404357  1.45427351  0.76103773  0.12167502  0.44386323  0.33367433\n",
      "   1.49407907 -0.20515826  0.3130677  -0.85409574]\n",
      " [-2.55298982  0.6536186   0.8644362  -0.74216502  2.26975462 -1.45436567\n",
      "   0.04575852 -0.18718385  1.53277921  1.46935877]\n",
      " [ 0.15494743  0.37816252 -0.88778575 -1.98079647 -0.34791215  0.15634897\n",
      "   1.23029068  1.20237985 -0.38732682 -0.30230275]\n",
      " [-1.04855297 -1.42001794 -1.70627019  1.9507754  -0.50965218 -0.4380743\n",
      "  -1.25279536  0.77749036 -1.61389785 -0.21274028]]\n"
     ]
    }
   ],
   "source": [
    "# The generation part of a dataset with of n components m features\n",
    "import numpy as np\n",
    "n,m = 5, 10\n",
    "l = n - 1 # l represents the number of components we will have left\n",
    "\n",
    "np.random.seed(0)\n",
    "X = np.random.randn(n, m)\n",
    "print(X)"
   ]
  },
  {
   "cell_type": "code",
   "execution_count": 25,
   "metadata": {},
   "outputs": [
    {
     "name": "stdout",
     "output_type": "stream",
     "text": [
      "[[10.77385825  0.79425472  1.28082537  3.51290851 -1.95576553  2.52064504\n",
      "   3.27864982 -0.44760946 -2.41791571 -2.97373931]\n",
      " [ 0.79425472  4.86171233  4.15062462 -2.93063357  3.46851707 -0.17521282\n",
      "   4.82713467 -1.13062501  3.5611267   0.0703908 ]\n",
      " [ 1.28082537  4.15062462  5.9838779   0.07426523  5.30618044 -1.35109783\n",
      "   3.15186633 -2.86014503  4.55983097  1.65340865]\n",
      " [ 3.51290851 -2.93063357  0.07426523 13.31629535  2.2493988  -2.23427625\n",
      "  -2.6039994  -1.09017737 -3.71192164 -0.09052969]\n",
      " [-1.95576553  3.46851707  5.30618044  2.2493988   9.21736168 -4.80920074\n",
      "   2.7518294  -1.6131642   4.38250702  3.93639703]\n",
      " [ 2.52064504 -0.17521282 -1.35109783 -2.23427625 -4.80920074  3.39794422\n",
      "   0.24465795  0.19908808 -1.3774363  -2.77731229]\n",
      " [ 3.27864982  4.82713467  3.15186633 -2.6039994   2.7518294   0.24465795\n",
      "   6.22014549  0.04634976  1.98517773 -0.92414623]\n",
      " [-0.44760946 -1.13062501 -2.86014503 -1.09017737 -1.6131642   0.19908808\n",
      "   0.04634976  2.15024527 -2.056021   -0.69084873]\n",
      " [-2.41791571  3.5611267   4.55983097 -3.71192164  4.38250702 -1.3774363\n",
      "   1.98517773 -2.056021    5.21276596  2.40286233]\n",
      " [-2.97373931  0.0703908   1.65340865 -0.09052969  3.93639703 -2.77731229\n",
      "  -0.92414623 -0.69084873  2.40286233  3.19373124]]\n"
     ]
    }
   ],
   "source": [
    "# The Matrix multiplication part or the covariant matrix\n",
    "P = X.T @ X\n",
    "print(P)"
   ]
  },
  {
   "cell_type": "code",
   "execution_count": 26,
   "metadata": {},
   "outputs": [
    {
     "name": "stdout",
     "output_type": "stream",
     "text": [
      "[[-0.14789813 -0.29229008 -0.71155152 -0.08520494  0.564959    0.20183626\n",
      "   0.07054668 -0.06988141  0.05729845  0.07789285]\n",
      " [ 0.35714906  0.0907016  -0.2752719   0.09565063 -0.38630326  0.24070323\n",
      "   0.61118953  0.24004831  0.29637541  0.23045964]\n",
      " [ 0.42448156 -0.14830895 -0.17800095 -0.38796215 -0.05097357 -0.54110901\n",
      "   0.280318   -0.2605898  -0.22986605 -0.34770677]\n",
      " [-0.18254278 -0.83887749  0.07902564 -0.01221453 -0.36483144  0.061675\n",
      "   0.01723624  0.22847673 -0.24874169  0.07274287]\n",
      " [ 0.52307025 -0.31450221  0.14974036  0.30039668  0.12421194  0.34186913\n",
      "  -0.21579168 -0.1564812   0.31973941 -0.45742399]\n",
      " [-0.20126505  0.20925468 -0.27064601 -0.28618019 -0.23546039  0.20787457\n",
      "  -0.16079142  0.4686364  -0.00244623 -0.64530855]\n",
      " [ 0.27619993  0.06426903 -0.44645739  0.48776302 -0.17110968 -0.34816705\n",
      "  -0.46754102  0.2318944  -0.1985866   0.1415664 ]\n",
      " [-0.14451911  0.11326199  0.03378466  0.55139594  0.14006073  0.13374998\n",
      "   0.44452924 -0.04072784 -0.56562497 -0.32311667]\n",
      " [ 0.42227943  0.12817107  0.03767025 -0.34183124  0.04164452  0.50395413\n",
      "  -0.18821149  0.01360246 -0.57644601  0.25175781]\n",
      " [ 0.21785783 -0.06740152  0.2871138  -0.04462212  0.52382329 -0.22705913\n",
      "   0.13620174  0.71948558  0.01643639  0.03379765]]\n"
     ]
    }
   ],
   "source": [
    "# Finding the eigen vectors and values\n",
    "eigvals, eigvects = np.linalg.eigh(P)\n",
    "# Sorting the eigen vectors based on the eigen values in descending order\n",
    "sorted_index = np.argsort(eigvals)[::-1]\n",
    "# We sort the columns of our list of of eigen vectors\n",
    "eigvects = eigvects[:, sorted_index]\n",
    "print(eigvects)"
   ]
  },
  {
   "cell_type": "code",
   "execution_count": 27,
   "metadata": {},
   "outputs": [],
   "source": [
    "# Construct the encoder\n",
    "# The encoding matrix D with l dimension whose columns are the first largest l eigen vectors\n",
    "D = eigvects[:l+1].T \n",
    "\n",
    "# The encoder encodes our dim-n vector into a dim-l vector c\n",
    "encoder = lambda x : D.T @ x \n",
    "# Our decoder tries to reconstitute from the encoded dim-l vector c to the dim-n vector\n",
    "decoder = lambda c : D @ c"
   ]
  },
  {
   "cell_type": "code",
   "execution_count": 28,
   "metadata": {},
   "outputs": [
    {
     "name": "stdout",
     "output_type": "stream",
     "text": [
      "[ 0.14404357  1.45427351  0.76103773  0.12167502  0.44386323  0.33367433\n",
      "  1.49407907 -0.20515826  0.3130677  -0.85409574]\n",
      "\n",
      "[-0.60899684  0.65421519  0.15690249 -1.49007598  0.13816512]\n",
      "\n",
      "[ 0.73459672  1.42061003  0.12825147  0.11329833 -0.04399327 -0.09501333\n",
      "  0.34537116 -0.20335431  0.53775301 -0.1228148 ]\n"
     ]
    }
   ],
   "source": [
    "# Testing  we can tweak l to what we want between 1 and n\n",
    "x = X[1]\n",
    "print(x)\n",
    "print()\n",
    "c = encoder(x)\n",
    "print(c)\n",
    "\n",
    "print()\n",
    "x_prime = decoder(c)\n",
    "print(x_prime)\n"
   ]
  }
 ],
 "metadata": {
  "kernelspec": {
   "display_name": "Python 3",
   "language": "python",
   "name": "python3"
  },
  "language_info": {
   "codemirror_mode": {
    "name": "ipython",
    "version": 3
   },
   "file_extension": ".py",
   "mimetype": "text/x-python",
   "name": "python",
   "nbconvert_exporter": "python",
   "pygments_lexer": "ipython3",
   "version": "3.11.6"
  }
 },
 "nbformat": 4,
 "nbformat_minor": 2
}
