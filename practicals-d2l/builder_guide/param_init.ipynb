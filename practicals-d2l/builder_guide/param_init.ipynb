{
 "cells": [
  {
   "cell_type": "markdown",
   "metadata": {},
   "source": [
    "# Initialization of Parameters\n",
    "\n",
    "- `init_normal_`: weights~Gaussian(0, 0.01), bias~Zero\n",
    "- `init_constant_`: weights~constants, bias~Zero\n",
    "- `init_xavier_`: weights~Xavier\n"
   ]
  },
  {
   "cell_type": "code",
   "execution_count": 3,
   "metadata": {},
   "outputs": [],
   "source": [
    "import torch\n",
    "from torch import nn"
   ]
  },
  {
   "cell_type": "code",
   "execution_count": 4,
   "metadata": {},
   "outputs": [
    {
     "name": "stderr",
     "output_type": "stream",
     "text": [
      "/home/sih/miniconda3/envs/d2l/lib/python3.9/site-packages/torch/nn/modules/lazy.py:180: UserWarning: Lazy modules are a new feature under heavy development so changes to the API or functionality can happen at any moment.\n",
      "  warnings.warn('Lazy modules are a new feature under heavy development '\n"
     ]
    },
    {
     "data": {
      "text/plain": [
       "torch.Size([2, 1])"
      ]
     },
     "execution_count": 4,
     "metadata": {},
     "output_type": "execute_result"
    }
   ],
   "source": [
    "net = nn.Sequential(nn.LazyLinear(8), nn.ReLU(), nn.LazyLinear(1))\n",
    "X = torch.rand(size=(2, 4))\n",
    "net(X).shape"
   ]
  },
  {
   "cell_type": "code",
   "execution_count": 5,
   "metadata": {},
   "outputs": [
    {
     "data": {
      "text/plain": [
       "(tensor([[-0.0085, -0.0126, -0.0120,  0.0078],\n",
       "         [-0.0261,  0.0178,  0.0016,  0.0127],\n",
       "         [-0.0085, -0.0095, -0.0125,  0.0281],\n",
       "         [-0.0114,  0.0078, -0.0137,  0.0058],\n",
       "         [ 0.0001,  0.0048, -0.0048, -0.0080],\n",
       "         [ 0.0158, -0.0047,  0.0032,  0.0069],\n",
       "         [ 0.0045,  0.0091,  0.0108,  0.0189],\n",
       "         [ 0.0005, -0.0257, -0.0002, -0.0016]]),\n",
       " tensor([0., 0., 0., 0., 0., 0., 0., 0.]))"
      ]
     },
     "execution_count": 5,
     "metadata": {},
     "output_type": "execute_result"
    }
   ],
   "source": [
    "def init_normal(module):\n",
    "    if type(module) == nn.Linear:\n",
    "        nn.init.normal_(module.weight, mean=0, std=0.01)\n",
    "        nn.init.zeros_(module.bias)\n",
    "\n",
    "net.apply(init_normal)\n",
    "net[0].weight.data, net[0].bias.data\n"
   ]
  },
  {
   "cell_type": "code",
   "execution_count": 6,
   "metadata": {},
   "outputs": [
    {
     "data": {
      "text/plain": [
       "(tensor([[2., 2., 2., 2.],\n",
       "         [2., 2., 2., 2.],\n",
       "         [2., 2., 2., 2.],\n",
       "         [2., 2., 2., 2.],\n",
       "         [2., 2., 2., 2.],\n",
       "         [2., 2., 2., 2.],\n",
       "         [2., 2., 2., 2.],\n",
       "         [2., 2., 2., 2.]]),\n",
       " tensor([0., 0., 0., 0., 0., 0., 0., 0.]))"
      ]
     },
     "execution_count": 6,
     "metadata": {},
     "output_type": "execute_result"
    }
   ],
   "source": [
    "def init_constant(module):\n",
    "    if type(module) == nn.Linear:\n",
    "        nn.init.constant_(module.weight, 2) # 2 is the constant\n",
    "        nn.init.zeros_(module.bias)\n",
    "\n",
    "net.apply(init_constant)\n",
    "net[0].weight.data, net[0].bias.data\n"
   ]
  },
  {
   "cell_type": "code",
   "execution_count": 7,
   "metadata": {},
   "outputs": [
    {
     "name": "stdout",
     "output_type": "stream",
     "text": [
      "tensor([[ 0.5305,  0.6949,  0.7057,  0.5652],\n",
      "        [ 0.6541, -0.4367, -0.5844, -0.2961],\n",
      "        [-0.5202, -0.3214, -0.2099,  0.2223],\n",
      "        [ 0.3149,  0.3967, -0.2504, -0.2714],\n",
      "        [ 0.2533, -0.3579,  0.0315,  0.0318],\n",
      "        [ 0.5440,  0.5466,  0.5503, -0.2221],\n",
      "        [ 0.0311,  0.2209,  0.0752, -0.3390],\n",
      "        [ 0.5204, -0.6107, -0.2125, -0.0064]])\n",
      "tensor([[42., 42., 42., 42., 42., 42., 42., 42.]])\n"
     ]
    }
   ],
   "source": [
    "# We can initialize different layers by different initializers\n",
    "def init_xavier(module):\n",
    "    if type(module) == nn.Linear:\n",
    "        nn.init.xavier_uniform_(module.weight)\n",
    "\n",
    "\n",
    "def init_42(module):\n",
    "    if type(module) == nn.Linear:\n",
    "        nn.init.constant_(module.weight, 42)\n",
    "\n",
    "\n",
    "net[0].apply(init_xavier)\n",
    "net[2].apply(init_42)\n",
    "print(net[0].weight.data)\n",
    "print(net[2].weight.data)"
   ]
  },
  {
   "cell_type": "code",
   "execution_count": 11,
   "metadata": {},
   "outputs": [
    {
     "name": "stdout",
     "output_type": "stream",
     "text": [
      "Init weight torch.Size([8, 4])\n",
      "Init weight torch.Size([1, 8])\n"
     ]
    },
    {
     "data": {
      "text/plain": [
       "Parameter containing:\n",
       "tensor([[-5.2647,  8.9670, -6.9094, -0.0000],\n",
       "        [-9.6208,  0.0000, -6.8990, -8.5384],\n",
       "        [ 5.4891,  0.0000, -0.0000, -7.5526],\n",
       "        [ 9.0367, -7.7021, -0.0000, -5.8225],\n",
       "        [ 5.9627, -0.0000,  0.0000,  5.9515],\n",
       "        [ 0.0000, -0.0000, -0.0000, -6.3688],\n",
       "        [ 5.0961, -9.5561,  9.6942,  5.8251],\n",
       "        [ 0.0000,  0.0000, -0.0000, -0.0000]], requires_grad=True)"
      ]
     },
     "execution_count": 11,
     "metadata": {},
     "output_type": "execute_result"
    }
   ],
   "source": [
    "# Custom initialisation over a Uniform distribution\n",
    "def custom_init(module):\n",
    "    if type(module) == nn.Linear:\n",
    "        print(\n",
    "            \"Init\",\n",
    "            *[(name, param.shape) for name, param in module.named_parameters()][0]\n",
    "        )\n",
    "\n",
    "        nn.init.uniform_(module.weight, -10, 10)\n",
    "        module.weight.data *= module.weight.data.abs() >= 5\n",
    "\n",
    "\n",
    "net.apply(custom_init)\n",
    "net[0].weight"
   ]
  }
 ],
 "metadata": {
  "kernelspec": {
   "display_name": "d2l",
   "language": "python",
   "name": "python3"
  },
  "language_info": {
   "codemirror_mode": {
    "name": "ipython",
    "version": 3
   },
   "file_extension": ".py",
   "mimetype": "text/x-python",
   "name": "python",
   "nbconvert_exporter": "python",
   "pygments_lexer": "ipython3",
   "version": "3.9.19"
  }
 },
 "nbformat": 4,
 "nbformat_minor": 2
}
