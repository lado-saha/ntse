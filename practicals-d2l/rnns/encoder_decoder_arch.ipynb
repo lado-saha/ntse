{
 "cells": [
  {
   "cell_type": "code",
   "execution_count": 1,
   "metadata": {},
   "outputs": [],
   "source": [
    "from torch import nn\n",
    "from d2l import torch as d2l"
   ]
  },
  {
   "cell_type": "markdown",
   "metadata": {},
   "source": [
    "- In the Encoder-Decoder Architecture the 2 components work as follows \n",
    "- **Encoder**: Takes a variable length input in a format and convert into a state \n",
    "- **Decoder**: Takes the encoded state and leftward context, then makes a fixed output prediction, which has the same format as the input"
   ]
  },
  {
   "cell_type": "code",
   "execution_count": 2,
   "metadata": {},
   "outputs": [],
   "source": [
    "class Encoder(nn.Module): #@save \n",
    "  \"\"\"The base encoder for all future enc-dec arch\"\"\"\n",
    "  def __init__(self):\n",
    "    super().__init__()\n",
    "\n",
    "  # Later ther can be additional arguments (e.g. )\n",
    "  def forward(self, X, *args): \n",
    "    raise NotImplementedError\n"
   ]
  },
  {
   "cell_type": "code",
   "execution_count": 3,
   "metadata": {},
   "outputs": [],
   "source": [
    "class Decoder(nn.Module): #@save \n",
    "  \"\"\"The base decoder for all future enc-dec arch\"\"\"\n",
    "  def __init__(self):\n",
    "    super().__init__()\n",
    "  \n",
    "  def init_state(self, enc_all_outputs, *args):\n",
    "    raise NotImplementedError\n",
    "\n",
    "  # Later ther can be additional arguments (e.g. )\n",
    "  def forward(self, X, *args): \n",
    "    raise NotImplementedError\n"
   ]
  },
  {
   "cell_type": "code",
   "execution_count": 5,
   "metadata": {},
   "outputs": [],
   "source": [
    "class EncoderDecoder(d2l.Classifier):  # @save\n",
    "    \"\"\"The base class for al lfuture encoder--decoder architecture\"\"\"\n",
    "\n",
    "    def __init__(self, encoder, decoder):\n",
    "        super().__init__()\n",
    "        self.encoder = encoder\n",
    "        self.decoder = decoder\n",
    "\n",
    "    def forward(self, enc_X, dec_X, *args):\n",
    "        enc_all_outputs = self.encoder(enc_X, *args)\n",
    "        dec_state = self.decoder.init_state(enc_all_outputs, *args)\n",
    "        # Return decoder output only\n",
    "        return self.decoder(dec_X, dec_state)[0]"
   ]
  }
 ],
 "metadata": {
  "kernelspec": {
   "display_name": "d2l",
   "language": "python",
   "name": "python3"
  },
  "language_info": {
   "codemirror_mode": {
    "name": "ipython",
    "version": 3
   },
   "file_extension": ".py",
   "mimetype": "text/x-python",
   "name": "python",
   "nbconvert_exporter": "python",
   "pygments_lexer": "ipython3",
   "version": "3.9.19"
  }
 },
 "nbformat": 4,
 "nbformat_minor": 2
}
