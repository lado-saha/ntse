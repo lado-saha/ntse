{
 "cells": [
  {
   "cell_type": "markdown",
   "metadata": {},
   "source": [
    "## Padding\n",
    "\n",
    "- Let input, X: (n_h, n_w) for height and width\n",
    "- Kernel, K: (k_h, h_w)\n",
    "- And a padding of (p_h, p_w)\n",
    "\n",
    "  => Then after convolution, the output will have:\n",
    "\n",
    "- Output, `Y: (n_h - k_h + p_h + 1, n_w - h_w + p_w + 1)`\n",
    "\n",
    "## Stride\n",
    "\n",
    "- Stride height (s_h) and stride width (s_w)\n",
    "\n",
    "After convolution\n",
    "- Output, `Y: ([n_h - k_h + p_h + 1]/s_h, [n_w - h_w + p_w + 1]/s_w)`\n"
   ]
  },
  {
   "cell_type": "code",
   "execution_count": 1,
   "metadata": {},
   "outputs": [],
   "source": [
    "import torch\n",
    "from torch import nn"
   ]
  },
  {
   "cell_type": "code",
   "execution_count": 6,
   "metadata": {},
   "outputs": [
    {
     "data": {
      "text/plain": [
       "torch.Size([8, 8])"
      ]
     },
     "execution_count": 6,
     "metadata": {},
     "output_type": "execute_result"
    }
   ],
   "source": [
    "# Here we define a helper funciton to calculate convolutions. It takes a 2D tensor and\n",
    "# augments it to a 4th-order tensor by including the batch examples and channel dimension\n",
    "def comp_conv2d(conv2d, X):\n",
    "    X = X.reshape((1, 1) + X.shape)  # Results in a 1 x 1 x height x width\n",
    "    Y = conv2d(X)\n",
    "\n",
    "    # Removes the first 2 dimensions: i.e Examples and channels\n",
    "    return Y.reshape(Y.shape[2:])\n",
    "\n",
    "\n",
    "# Init the 2D convolutional network with a padding on input of 1 row and 1 column on either side => 2 rows and 2 columns of the matrix\n",
    "conv2d = nn.LazyConv2d(1, kernel_size=3, padding=1)\n",
    "X = torch.rand(size=(8, 8))\n",
    "# Output shape: (8 - 3 + 1 + 2, 8 - 3 + 1 + 2) = (8, 8)\n",
    "comp_conv2d(conv2d, X).shape"
   ]
  },
  {
   "cell_type": "code",
   "execution_count": null,
   "metadata": {},
   "outputs": [],
   "source": [
    "# Experiment with stride"
   ]
  }
 ],
 "metadata": {
  "kernelspec": {
   "display_name": "d2l",
   "language": "python",
   "name": "python3"
  },
  "language_info": {
   "codemirror_mode": {
    "name": "ipython",
    "version": 3
   },
   "file_extension": ".py",
   "mimetype": "text/x-python",
   "name": "python",
   "nbconvert_exporter": "python",
   "pygments_lexer": "ipython3",
   "version": "3.9.19"
  }
 },
 "nbformat": 4,
 "nbformat_minor": 2
}
