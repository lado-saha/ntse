{
 "cells": [
  {
   "cell_type": "code",
   "execution_count": 1,
   "metadata": {},
   "outputs": [],
   "source": [
    "import torch\n",
    "from torch import nn\n",
    "from d2l import torch as d2l"
   ]
  },
  {
   "cell_type": "code",
   "execution_count": 2,
   "metadata": {},
   "outputs": [],
   "source": [
    "def corr2d(X, K):  # @save\n",
    "    \"\"\"Compute the 2D cross-correlation\"\"\"\n",
    "    h, w = K.shape\n",
    "    # The size of the output is gotten by subtracting the size of the Kernel and the size of the input\n",
    "    Y = torch.zeros((X.shape[0] - h + 1, X.shape[1] - w + 1))\n",
    "    for i in range(Y.shape[0]):\n",
    "        for j in range(Y.shape[1]):\n",
    "            Y[i, j] = (X[i : i + h, j : j + w] * K).sum()\n",
    "    return Y"
   ]
  },
  {
   "cell_type": "code",
   "execution_count": 3,
   "metadata": {},
   "outputs": [
    {
     "data": {
      "text/plain": [
       "tensor([[19., 25.],\n",
       "        [37., 43.]])"
      ]
     },
     "execution_count": 3,
     "metadata": {},
     "output_type": "execute_result"
    }
   ],
   "source": [
    "# Testing the 2D correlation of the tensor\n",
    "X = torch.tensor([[0, 1, 2], [3, 4, 5], [6, 7, 8]])\n",
    "K = torch.tensor([[0, 1], [2, 3]])\n",
    "\n",
    "corr2d(X, K)"
   ]
  },
  {
   "cell_type": "code",
   "execution_count": 4,
   "metadata": {},
   "outputs": [],
   "source": [
    "class Conv2D(nn.Module):\n",
    "    \"\"\"A convolution layer applies cross correlation to the input and then adds a scalar bias to the output\"\"\"\n",
    "\n",
    "    def __init__(self, kernel_size) -> None:\n",
    "        super().__init__()\n",
    "        self.weight = nn.Parameter(torch.rand(kernel_size))\n",
    "        self.bias = nn.Parameter(torch.zeros(1))\n",
    "\n",
    "    def forward(self, X):\n",
    "        return corr2d(X, self.weight) + self.bias"
   ]
  },
  {
   "cell_type": "code",
   "execution_count": 5,
   "metadata": {},
   "outputs": [
    {
     "data": {
      "text/plain": [
       "tensor([[1., 1., 0., 0., 0., 0., 1., 1.],\n",
       "        [1., 1., 0., 0., 0., 0., 1., 1.],\n",
       "        [1., 1., 0., 0., 0., 0., 1., 1.],\n",
       "        [1., 1., 0., 0., 0., 0., 1., 1.],\n",
       "        [1., 1., 0., 0., 0., 0., 1., 1.],\n",
       "        [1., 1., 0., 0., 0., 0., 1., 1.]])"
      ]
     },
     "execution_count": 5,
     "metadata": {},
     "output_type": "execute_result"
    }
   ],
   "source": [
    "# Understanding Edge detection\n",
    "\n",
    "X = torch.ones((6, 8))\n",
    "X[:, 2:6] = 0\n",
    "X"
   ]
  },
  {
   "cell_type": "code",
   "execution_count": 6,
   "metadata": {},
   "outputs": [
    {
     "data": {
      "text/plain": [
       "tensor([[ 0.,  1.,  0.,  0.,  0., -1.,  0.],\n",
       "        [ 0.,  1.,  0.,  0.,  0., -1.,  0.],\n",
       "        [ 0.,  1.,  0.,  0.,  0., -1.,  0.],\n",
       "        [ 0.,  1.,  0.,  0.,  0., -1.,  0.],\n",
       "        [ 0.,  1.,  0.,  0.,  0., -1.,  0.],\n",
       "        [ 0.,  1.,  0.,  0.,  0., -1.,  0.]])"
      ]
     },
     "execution_count": 6,
     "metadata": {},
     "output_type": "execute_result"
    }
   ],
   "source": [
    "K = torch.tensor([[1.0, -1.0]])  # The kernel is height 1, width 2 [1, 2] matrix\n",
    "# This kernel only detects vertical edges. Calculates X[i, j] - X[i+1, i]\n",
    "Y = corr2d(X, K)\n",
    "# notice the edge detection. 1 => D\n",
    "Y"
   ]
  },
  {
   "cell_type": "code",
   "execution_count": 16,
   "metadata": {},
   "outputs": [],
   "source": [
    "# Now we want to learn the kernel which transforms X => Y i.e The ernel which does the vertical edge detection without guessing it as above\n",
    "# The real kernel is [[1,2]] 2nd orther tensor\n",
    "\n",
    "# Construct a 1 output channel Convolutional Network with a kernel of shape (1,2) and no bias\n",
    "# initialize kernel to random values\n",
    "conv = nn.LazyConv2d(1, kernel_size=(1, 2), bias=False)\n",
    "\n",
    "# The input is a 4th order tensor (example, channel, height, width) since we are woring with batch data\n",
    "# e.g X is reshaped as: 1 example, 1 channel, 6(height) by 6(width) picture\n",
    "\n",
    "X = X.reshape((1, 1, 6, 8))  # Input\n",
    "Y = Y.reshape((1, 1, 6, 7))  # Expected Output\n",
    "lr = 3e-2\n",
    "\n",
    "for i in range(20):\n",
    "    Y_hat = conv(X)\n",
    "    l = (Y_hat - Y) ** 2\n",
    "    conv.zero_grad()\n",
    "    l.sum().backward()\n",
    "\n",
    "    # Update weights or kernel\n",
    "    conv.weight.data[:] -= lr * conv.weight.grad\n",
    "    if (i + 1) % 2 == 0:\n",
    "        print(f\"epoch {i + 1}, loss {l.sum():.3f}\")\n",
    "    # if (i+1)@\n",
    "conv.weight.data.reshape((1,2)) # Answer is approximately [1,-1]"
   ]
  }
 ],
 "metadata": {
  "kernelspec": {
   "display_name": "d2l",
   "language": "python",
   "name": "python3"
  },
  "language_info": {
   "codemirror_mode": {
    "name": "ipython",
    "version": 3
   },
   "file_extension": ".py",
   "mimetype": "text/x-python",
   "name": "python",
   "nbconvert_exporter": "python",
   "pygments_lexer": "ipython3",
   "version": "3.9.19"
  }
 },
 "nbformat": 4,
 "nbformat_minor": 2
}
