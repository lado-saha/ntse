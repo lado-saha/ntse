{
 "cells": [
  {
   "cell_type": "markdown",
   "metadata": {},
   "source": [
    "# 2.1 Data Manipulation"
   ]
  },
  {
   "cell_type": "code",
   "execution_count": 22,
   "metadata": {},
   "outputs": [],
   "source": [
    "import torch\n",
    "\n",
    "#1- Constructing Tensors\n",
    "x = torch.arange(12, dtype=torch.float32,)\n",
    "# Total number of elements in a tensor\n",
    "x.numel()\n",
    "x.shape\n",
    "\n",
    "# Altering the shape of a tensor without. e.g 12 = 3x4 matrix\n",
    "X = x.reshape(3,4) # Or\n",
    "X = x.reshape(-1, 4) # -1 => Automatically infer => (3) since 3x4 = 12\n",
    "\n",
    "torch.zeros((2,3,4)) # Zeroes out\n",
    "torch.ones((2,3,4)) # 2x3x4 tensor of ones\n",
    "torch.rand(3,4) # Randomly generated 3x4 matrix\n",
    "Y =torch.tensor([[3,2,4,5], [4,5,5,6], [1,2,5,7]]) # A 4x3 matrix"
   ]
  },
  {
   "cell_type": "code",
   "execution_count": 36,
   "metadata": {},
   "outputs": [
    {
     "data": {
      "text/plain": [
       "134430195859520"
      ]
     },
     "execution_count": 36,
     "metadata": {},
     "output_type": "execute_result"
    }
   ],
   "source": [
    "#2 Indexing & Sorting\n",
    "X[-1]\n",
    "# The following are equivalent\n",
    "Y[2,1] \n",
    "Y[2][1]\n",
    "\n",
    "# Test\n",
    "A = torch.tensor([[ 0.,  1.,  2.,  3.],\n",
    "         [ 4.,  5.,  6.,  7.],\n",
    "         [ 8.,  9., 10., 11.],\n",
    "         [ 2.,  1.,  4.,  3.],\n",
    "         [ 1.,  2.,  3.,  4.],\n",
    "         [ 4.,  3.,  2.,  1.]]\n",
    "         )\n",
    "\n",
    "# Equality A==B => Ai == Bi for all i\n",
    "# Summing all elements of tensor\n",
    "A.sum()\n",
    "\n",
    "id(A) # All tensors object are uniquely identified by an id\n",
    "\n",
    "# Y = Y + X realocates another area for the new Y which is wasteful\n",
    "# Instead  Y[:] = Y + X doesnot realocated"
   ]
  },
  {
   "cell_type": "markdown",
   "metadata": {},
   "source": []
  }
 ],
 "metadata": {
  "kernelspec": {
   "display_name": "base",
   "language": "python",
   "name": "python3"
  },
  "language_info": {
   "codemirror_mode": {
    "name": "ipython",
    "version": 3
   },
   "file_extension": ".py",
   "mimetype": "text/x-python",
   "name": "python",
   "nbconvert_exporter": "python",
   "pygments_lexer": "ipython3",
   "version": "3.9.19"
  }
 },
 "nbformat": 4,
 "nbformat_minor": 2
}
